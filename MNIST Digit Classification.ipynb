{
 "cells": [
  {
   "cell_type": "markdown",
   "id": "34a09151",
   "metadata": {},
   "source": [
    "# Imports"
   ]
  },
  {
   "cell_type": "code",
   "execution_count": 2,
   "id": "90e72e37",
   "metadata": {},
   "outputs": [],
   "source": [
    "import numpy as np\n",
    "import matplotlib.pyplot as plt\n",
    "%matplotlib inline\n",
    "import keras\n",
    "import keras.utils\n",
    "from keras.utils.np_utils import to_categorical\n",
    "from keras import utils as np_utils\n",
    "from keras.models import Sequential\n",
    "from keras.layers import Dense, Dropout\n",
    "from sklearn.metrics import confusion_matrix\n",
    "import seaborn as sns\n",
    "\n",
    "np.random.seed(0)"
   ]
  },
  {
   "cell_type": "markdown",
   "id": "d42aa5f2",
   "metadata": {},
   "source": [
    "# Data"
   ]
  },
  {
   "cell_type": "code",
   "execution_count": 3,
   "id": "74551b0c",
   "metadata": {},
   "outputs": [],
   "source": [
    "#Downloading data from keras dataset(mnist)\n",
    "from keras.datasets import mnist\n",
    "(x_train, y_train), (x_test, y_test) = mnist.load_data()\n"
   ]
  },
  {
   "cell_type": "code",
   "execution_count": 4,
   "id": "501776af",
   "metadata": {},
   "outputs": [
    {
     "name": "stdout",
     "output_type": "stream",
     "text": [
      "(60000, 28, 28) (60000,)\n",
      "(10000, 28, 28) (10000,)\n"
     ]
    }
   ],
   "source": [
    "#Printing amount of data we have\n",
    "#60000 images size 28 by 28 with 60000 labels\n",
    "#10000 tests with 10000 labels\n",
    "\n",
    "print(x_train.shape, y_train.shape)\n",
    "print(x_test.shape, y_test.shape)"
   ]
  },
  {
   "cell_type": "markdown",
   "id": "1ca5b4b3",
   "metadata": {},
   "source": [
    "# Visualize examples"
   ]
  },
  {
   "cell_type": "code",
   "execution_count": 5,
   "id": "56b1b638",
   "metadata": {},
   "outputs": [
    {
     "data": {
      "image/png": "[encoded data removed]",
      "text/plain": [
       "<Figure size 1440x1440 with 10 Axes>"
      ]
     },
     "metadata": {
      "needs_background": "light"
     },
     "output_type": "display_data"
    }
   ],
   "source": [
    "num_classes = 10\n",
    "\n",
    "#f, ax - figure and axis\n",
    "f, ax = plt.subplots(1, num_classes, figsize=(20,20))\n",
    "\n",
    "for i in range(0, num_classes):\n",
    "\n",
    "  #Showing an image from the dataset\n",
    "  #From zero to 1 show first image\n",
    "  sample = x_train[y_train == i][0]\n",
    "\n",
    "  #In the axis show the image\n",
    "  #gray cause we are using gray scale values\n",
    "  ax[i].imshow(sample, cmap='gray')\n",
    "\n",
    "  #Setting the labels\n",
    "  ax[i].set_title(\"Label: {}\".format(i), fontsize=16)"
   ]
  },
  {
   "cell_type": "code",
   "execution_count": 6,
   "id": "68f731af",
   "metadata": {},
   "outputs": [
    {
     "name": "stdout",
     "output_type": "stream",
     "text": [
      "5\n",
      "0\n",
      "4\n",
      "1\n",
      "9\n",
      "2\n",
      "1\n",
      "3\n",
      "1\n",
      "4\n"
     ]
    }
   ],
   "source": [
    "#The labels as a list but random\n",
    "#Unable to feed our network these values cause they are continuous\n",
    "for i in range(10):\n",
    "  print(y_train[i])"
   ]
  },
  {
   "cell_type": "code",
   "execution_count": 7,
   "id": "01a01472",
   "metadata": {},
   "outputs": [],
   "source": [
    "#Setting the values into a class\n",
    "#Cause if say the network has to predict a number btwn a 4 or 5 it might say 4.5 and we want accuracy\n",
    "\n",
    "y_train = keras.utils.np_utils.to_categorical(y_train, num_classes)\n",
    "y_test = keras.utils.np_utils.to_categorical(y_test, num_classes)"
   ]
  },
  {
   "cell_type": "code",
   "execution_count": 8,
   "id": "3f3551e7",
   "metadata": {},
   "outputs": [
    {
     "name": "stdout",
     "output_type": "stream",
     "text": [
      "[0. 0. 0. 0. 0. 1. 0. 0. 0. 0.]\n",
      "[1. 0. 0. 0. 0. 0. 0. 0. 0. 0.]\n",
      "[0. 0. 0. 0. 1. 0. 0. 0. 0. 0.]\n",
      "[0. 1. 0. 0. 0. 0. 0. 0. 0. 0.]\n",
      "[0. 0. 0. 0. 0. 0. 0. 0. 0. 1.]\n",
      "[0. 0. 1. 0. 0. 0. 0. 0. 0. 0.]\n",
      "[0. 1. 0. 0. 0. 0. 0. 0. 0. 0.]\n",
      "[0. 0. 0. 1. 0. 0. 0. 0. 0. 0.]\n",
      "[0. 1. 0. 0. 0. 0. 0. 0. 0. 0.]\n",
      "[0. 0. 0. 0. 1. 0. 0. 0. 0. 0.]\n"
     ]
    }
   ],
   "source": [
    "#We created a vector for each numbers(10)\n",
    "#Using the label list eg. number 5 we have a 1 at the fifth index\n",
    "for i in range(10):\n",
    "  print(y_train[i])"
   ]
  },
  {
   "cell_type": "markdown",
   "id": "7c7d2283",
   "metadata": {},
   "source": [
    "# Preparing data"
   ]
  },
  {
   "cell_type": "code",
   "execution_count": 9,
   "id": "83d57ed1",
   "metadata": {},
   "outputs": [],
   "source": [
    "#Normalizing the data\n",
    "#Keeping data in certain range\n",
    "\n",
    "x_train = x_train / 255.0\n",
    "x_test = x_test / 255.0"
   ]
  },
  {
   "cell_type": "code",
   "execution_count": 10,
   "id": "b544a6f4",
   "metadata": {},
   "outputs": [
    {
     "name": "stdout",
     "output_type": "stream",
     "text": [
      "(60000, 784)\n"
     ]
    }
   ],
   "source": [
    "#Reshaping the data\n",
    "#Settig up the data to stack up and accomodate alot of data from neural network\n",
    "#, -1 makes it one dimension\n",
    "#60000 images with one dimension 784\n",
    "\n",
    "x_train = x_train.reshape(x_train.shape[0], -1)\n",
    "x_test = x_test.reshape(x_test.shape[0], -1)\n",
    "print(x_train.shape)"
   ]
  },
  {
   "cell_type": "markdown",
   "id": "2c01c03d",
   "metadata": {},
   "source": [
    "# Creating model - Fully connected Neural Network"
   ]
  },
  {
   "cell_type": "code",
   "execution_count": 11,
   "id": "0e7cebed",
   "metadata": {},
   "outputs": [
    {
     "name": "stdout",
     "output_type": "stream",
     "text": [
      "Model: \"sequential\"\n",
      "_________________________________________________________________\n",
      "Layer (type)                 Output Shape              Param #   \n",
      "=================================================================\n",
      "dense (Dense)                (None, 128)               100480    \n",
      "_________________________________________________________________\n",
      "dense_1 (Dense)              (None, 128)               16512     \n",
      "_________________________________________________________________\n",
      "dropout (Dropout)            (None, 128)               0         \n",
      "_________________________________________________________________\n",
      "dense_2 (Dense)              (None, 10)                1290      \n",
      "=================================================================\n",
      "Total params: 118,282\n",
      "Trainable params: 118,282\n",
      "Non-trainable params: 0\n",
      "_________________________________________________________________\n"
     ]
    }
   ],
   "source": [
    "#Model where we can keeping creating layers and create chain of layers(stack)\n",
    "model = Sequential()\n",
    "\n",
    "#Specifying the dimension of the layers\n",
    "model.add(Dense(units=128, input_shape=(784,), activation='relu'))\n",
    "model.add(Dense(units=128, activation='relu'))\n",
    "\n",
    "#25% of our neurals shall be deactivated during the training preventing overfeeding\n",
    "model.add(Dropout(0.25))\n",
    "\n",
    "#10 units to output 10 neurals cause we have 10 digits\n",
    "model.add(Dense(units=10, activation='softmax'))\n",
    "\n",
    "#categorical entropy, loss used with multiple classes\n",
    "model.compile(loss='categorical_crossentropy', optimizer='adam', metrics=['accuracy'])\n",
    "\n",
    "#Get summary of our model\n",
    "model.summary()"
   ]
  },
  {
   "cell_type": "markdown",
   "id": "a29245db",
   "metadata": {},
   "source": [
    "# Train"
   ]
  },
  {
   "cell_type": "code",
   "execution_count": 12,
   "id": "c93e922b",
   "metadata": {},
   "outputs": [
    {
     "name": "stdout",
     "output_type": "stream",
     "text": [
      "Epoch 1/10\n",
      "118/118 [==============================] - 4s 12ms/step - loss: 0.5995 - accuracy: 0.8241\n",
      "Epoch 2/10\n",
      "118/118 [==============================] - 1s 12ms/step - loss: 0.2225 - accuracy: 0.9351\n",
      "Epoch 3/10\n",
      "118/118 [==============================] - 1s 11ms/step - loss: 0.1621 - accuracy: 0.9528\n",
      "Epoch 4/10\n",
      "118/118 [==============================] - 1s 13ms/step - loss: 0.1281 - accuracy: 0.9629\n",
      "Epoch 5/10\n",
      "118/118 [==============================] - 1s 13ms/step - loss: 0.1088 - accuracy: 0.9675\n",
      "Epoch 6/10\n",
      "118/118 [==============================] - 1s 12ms/step - loss: 0.0901 - accuracy: 0.9734\n",
      "Epoch 7/10\n",
      "118/118 [==============================] - 1s 12ms/step - loss: 0.0769 - accuracy: 0.9769\n",
      "Epoch 8/10\n",
      "118/118 [==============================] - 1s 12ms/step - loss: 0.0679 - accuracy: 0.9799\n",
      "Epoch 9/10\n",
      "118/118 [==============================] - 2s 14ms/step - loss: 0.0593 - accuracy: 0.9820\n",
      "Epoch 10/10\n",
      "118/118 [==============================] - 2s 15ms/step - loss: 0.0529 - accuracy: 0.9839 0s - loss: 0.0\n"
     ]
    },
    {
     "data": {
      "text/plain": [
       "<tensorflow.python.keras.callbacks.History at 0x235490a8250>"
      ]
     },
     "execution_count": 12,
     "metadata": {},
     "output_type": "execute_result"
    }
   ],
   "source": [
    "#Importing 512 images at a single time\n",
    "batch_size = 512\n",
    "\n",
    "#epochs is the number of iterations performed by the neural network\n",
    "epochs=10\n",
    "\n",
    "#Trains the model for a fixed numbr of epochs(iterations)\n",
    "#Notice the loss goes down while the accuracy goes up\n",
    "model.fit(x=x_train, y=y_train, batch_size=batch_size, epochs=epochs)"
   ]
  },
  {
   "cell_type": "markdown",
   "id": "406206bf",
   "metadata": {},
   "source": [
    "# Evaluate"
   ]
  },
  {
   "cell_type": "code",
   "execution_count": 13,
   "id": "9aa52c4d",
   "metadata": {},
   "outputs": [
    {
     "name": "stdout",
     "output_type": "stream",
     "text": [
      "313/313 [==============================] - 1s 2ms/step - loss: 0.0721 - accuracy: 0.9777\n",
      "Test Loss: 0.07210078835487366, Test Accuracy: 0.9776999950408936\n"
     ]
    }
   ],
   "source": [
    "#Checking the performance on that data\n",
    "#It shows data that the network didnt see as well as the network accuracy\n",
    "\n",
    "test_loss, test_acc = model.evaluate(x_test, y_test)\n",
    "print(\"Test Loss: {}, Test Accuracy: {}\".format(test_loss, test_acc))"
   ]
  },
  {
   "cell_type": "code",
   "execution_count": 14,
   "id": "b7df5168",
   "metadata": {},
   "outputs": [
    {
     "name": "stdout",
     "output_type": "stream",
     "text": [
      "[[2.7957667e-06 1.3110876e-05 9.8654789e-05 ... 9.9962699e-01\n",
      "  8.5421398e-06 1.5227023e-05]\n",
      " [2.2158437e-07 2.6819273e-04 9.9967170e-01 ... 2.0301202e-08\n",
      "  1.1601343e-05 1.4747811e-11]\n",
      " [8.5668316e-06 9.9827099e-01 2.1598852e-04 ... 5.5485312e-04\n",
      "  1.5592495e-04 8.1151220e-06]\n",
      " ...\n",
      " [1.4173751e-09 2.9868637e-08 7.7727658e-11 ... 1.5689581e-06\n",
      "  6.1082815e-08 6.8210302e-06]\n",
      " [1.2434366e-07 1.4530170e-08 2.4926654e-09 ... 1.9430457e-09\n",
      "  3.5954756e-05 6.6058831e-08]\n",
      " [3.3827718e-08 5.4262643e-11 3.9254071e-09 ... 1.4489431e-13\n",
      "  8.3094047e-09 8.3667329e-10]]\n",
      "[7 2 1 ... 4 5 6]\n"
     ]
    }
   ],
   "source": [
    "#Seeing how the model can be used to predict classification on some dataset\n",
    "#From the first variable we see the probability from every element froma single class\n",
    "\n",
    "y_pred = model.predict(x_test)\n",
    "\n",
    "#The np.argmax goes through every row and returns highest probabilities in terms of index\n",
    "y_pred_classes = np.argmax(y_pred, axis=1)\n",
    "\n",
    "print(y_pred)\n",
    "print(y_pred_classes)"
   ]
  },
  {
   "cell_type": "code",
   "execution_count": 15,
   "id": "dc5e7a0c",
   "metadata": {},
   "outputs": [
    {
     "data": {
      "text/plain": [
       "<matplotlib.image.AxesImage at 0x2354d6d7700>"
      ]
     },
     "execution_count": 15,
     "metadata": {},
     "output_type": "execute_result"
    },
    {
     "data": {
      "image/png": "[encoded data removed]",
      "text/plain": [
       "<Figure size 432x288 with 1 Axes>"
      ]
     },
     "metadata": {
      "needs_background": "light"
     },
     "output_type": "display_data"
    }
   ],
   "source": [
    "\n",
    "# SINGLE EXAMPLE\n",
    "#Getting a random element from a tetsting data and making a prediction\n",
    "random_idx = np.random.choice(len(x_test))\n",
    "x_sample = x_test[random_idx]\n",
    "\n",
    "#Getting all the predictions and presenting it as an actual number\n",
    "y_true = np.argmax(y_test, axis=1)\n",
    "y_sample_true = y_true[random_idx]\n",
    "y_sample_pred_class = y_pred_classes[random_idx]\n",
    "\n",
    "#Ploting the image and the title for the random example that was predicted\n",
    "plt.title(\"Predicted: {}, True: {}\".format(y_sample_pred_class, y_sample_true), fontsize=16)\n",
    "plt.imshow(x_sample.reshape(28, 28), cmap='gray')"
   ]
  },
  {
   "cell_type": "markdown",
   "id": "2c308cd6",
   "metadata": {},
   "source": [
    "# Confusion matrix"
   ]
  },
  {
   "cell_type": "code",
   "execution_count": 16,
   "id": "2ae0ccd0",
   "metadata": {},
   "outputs": [
    {
     "data": {
      "image/png": "[encoded data removed]",
      "text/plain": [
       "<Figure size 1080x720 with 2 Axes>"
      ]
     },
     "metadata": {
      "needs_background": "light"
     },
     "output_type": "display_data"
    }
   ],
   "source": [
    "#Shows how accurate the classification of a value is\n",
    "confusion_mtx = confusion_matrix(y_true, y_pred_classes)\n",
    "\n",
    "# Ploting the matrix\n",
    "fig, ax = plt.subplots(figsize=(15,10))\n",
    "ax = sns.heatmap(confusion_mtx, annot=True, fmt='d', ax=ax, cmap=\"Blues\")\n",
    "ax.set_xlabel('Predicted Label')\n",
    "ax.set_ylabel('True Label')\n",
    "ax.set_title('Confusion Matrix');\n",
    "\n",
    "#y axis is the True Label\n",
    "#x axis is the prediction label\n",
    "\n",
    "#eg. take zero, for every zero with a zero image, the model predicted 966 zeros accurately\n",
    "#proceeding on to the right horizontally, 1 zero was predicted as 1, no zeros were predicted as 2 (while confirming down vertically)"
   ]
  },
  {
   "cell_type": "markdown",
   "id": "0fd00969",
   "metadata": {},
   "source": [
    "# Checking errors"
   ]
  },
  {
   "cell_type": "code",
   "execution_count": 17,
   "id": "bd8ebca2",
   "metadata": {},
   "outputs": [],
   "source": [
    "#Checking why the network doenst predict other samples accurately\n",
    "\n",
    "#Code that finds the predicted classes that are not the same as the true classes\n",
    "errors = (y_pred_classes - y_true != 0)\n",
    "y_pred_classes_errors = y_pred_classes[errors]\n",
    "\n",
    "#Created variables to keep the error values\n",
    "y_pred_errors = y_pred[errors]\n",
    "y_true_errors = y_true[errors]\n",
    "x_test_errors = x_test[errors]"
   ]
  },
  {
   "cell_type": "code",
   "execution_count": 18,
   "id": "dd38379a",
   "metadata": {},
   "outputs": [],
   "source": [
    "#Finding errors with the maximum probability(algorithim is least certain off the correct prediction)\n",
    "y_pred_errors_probability = np.max(y_pred_errors, axis=1)\n",
    "true_probability_errors = np.diagonal(np.take(y_pred_errors, y_true_errors, axis=1))\n",
    "diff_errors_pred_true = y_pred_errors_probability - true_probability_errors\n",
    "\n",
    "# Get list of indices of the highest errors\n",
    "sorted_idx_diff_errors = np.argsort(diff_errors_pred_true)\n",
    "top_idx_diff_errors = sorted_idx_diff_errors[-5:] # 5 last ones"
   ]
  },
  {
   "cell_type": "code",
   "execution_count": 18,
   "id": "903ae1d4",
   "metadata": {},
   "outputs": [
    {
     "data": {
      "image/png": "[encoded data removed]",
      "text/plain": [
       "<Figure size 2160x2160 with 5 Axes>"
      ]
     },
     "metadata": {
      "needs_background": "light"
     },
     "output_type": "display_data"
    }
   ],
   "source": [
    "# SHOW TOP ERRORS\n",
    "num = len(top_idx_diff_errors)\n",
    "f, ax = plt.subplots(1, num, figsize=(30,30))\n",
    "\n",
    "for i in range(0, num):\n",
    "  idx = top_idx_diff_errors[i]\n",
    "  sample = x_test_errors[idx].reshape(28,28)\n",
    "  y_t = y_true_errors[idx]\n",
    "  y_p = y_pred_classes_errors[idx]\n",
    "  ax[i].imshow(sample, cmap='gray')\n",
    "  ax[i].set_title(\"Predicted label :{}\\nTrue label: {}\".format(y_p, y_t), fontsize=22)"
   ]
  },
  {
   "cell_type": "code",
   "execution_count": null,
   "id": "ee54985d",
   "metadata": {},
   "outputs": [],
   "source": []
  }
 ],
 "metadata": {
  "kernelspec": {
   "display_name": "Python 3",
   "language": "python",
   "name": "python3"
  },
  "language_info": {
   "codemirror_mode": {
    "name": "ipython",
    "version": 3
   },
   "file_extension": ".py",
   "mimetype": "text/x-python",
   "name": "python",
   "nbconvert_exporter": "python",
   "pygments_lexer": "ipython3",
   "version": "3.8.5"
  }
 },
 "nbformat": 4,
 "nbformat_minor": 5
}
